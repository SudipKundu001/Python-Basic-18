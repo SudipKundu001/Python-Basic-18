{
 "cells": [
  {
   "cell_type": "markdown",
   "id": "f52e1cf0",
   "metadata": {},
   "source": [
    ">__1. Create a zoo.py file first. Define the hours() function, which prints the string 'Open 9-5 daily'. Then, use the interactive interpreter to import the zoo module and call its hours() function.__"
   ]
  },
  {
   "cell_type": "code",
   "execution_count": null,
   "id": "a75a5b72",
   "metadata": {},
   "outputs": [],
   "source": [
    "def hours():\n",
    "    print('open 9 to 5 daily')\n",
    "    \n",
    "import zoo.py\n",
    "zoo.hours()"
   ]
  },
  {
   "cell_type": "markdown",
   "id": "542dec44",
   "metadata": {},
   "source": [
    ">__2. In the interactive interpreter, import the zoo module as menagerie and call its hours() function.__"
   ]
  },
  {
   "cell_type": "code",
   "execution_count": null,
   "id": "0b07c3b9",
   "metadata": {},
   "outputs": [],
   "source": [
    "import zoo as menagerie\n",
    "menagerie.hours()"
   ]
  },
  {
   "cell_type": "markdown",
   "id": "d94ad824",
   "metadata": {},
   "source": [
    ">__3. Using the interpreter, explicitly import and call the hours() function from zoo.__"
   ]
  },
  {
   "cell_type": "code",
   "execution_count": null,
   "id": "f6c8f831",
   "metadata": {},
   "outputs": [],
   "source": [
    "from zoo import hours\n",
    "hours()"
   ]
  },
  {
   "cell_type": "markdown",
   "id": "640d0d02",
   "metadata": {},
   "source": [
    ">__4. Import the hours() function as info and call it.__"
   ]
  },
  {
   "cell_type": "code",
   "execution_count": null,
   "id": "d41dc6b9",
   "metadata": {},
   "outputs": [],
   "source": [
    "from zoo import hours as info\n",
    "info()"
   ]
  },
  {
   "cell_type": "markdown",
   "id": "90b88b7c",
   "metadata": {},
   "source": [
    ">__5. Create a plain dictionary with the key-value pairs 'a': 1, 'b': 2, and 'c': 3, and print it out.__"
   ]
  },
  {
   "cell_type": "code",
   "execution_count": 2,
   "id": "4391da94",
   "metadata": {},
   "outputs": [
    {
     "data": {
      "text/plain": [
       "{'a': 1, 'b': 2, 'c': 3}"
      ]
     },
     "execution_count": 2,
     "metadata": {},
     "output_type": "execute_result"
    }
   ],
   "source": [
    "plain = {'a': 1, 'b': 2, 'c': 3}\n",
    "plain"
   ]
  },
  {
   "cell_type": "markdown",
   "id": "0a4eb648",
   "metadata": {},
   "source": [
    ">__6.Make an OrderedDict called fancy from the same pairs listed in 5 and print it. Did it print in the same order as plain?__"
   ]
  },
  {
   "cell_type": "code",
   "execution_count": 3,
   "id": "580841f4",
   "metadata": {},
   "outputs": [
    {
     "data": {
      "text/plain": [
       "OrderedDict([('a', 1), ('b', 2), ('c', 3)])"
      ]
     },
     "execution_count": 3,
     "metadata": {},
     "output_type": "execute_result"
    }
   ],
   "source": [
    "from collections import OrderedDict \n",
    "fancy = OrderedDict([('a', 1), ('b', 2), ('c', 3)])\n",
    "fancy"
   ]
  },
  {
   "cell_type": "markdown",
   "id": "99b5d2e1",
   "metadata": {},
   "source": [
    ">__7. Make a default dictionary called dict_of_lists and pass it the argument list. Make the list dict_of_lists['a'] and append the value 'something for a' to it in one assignment. Print dict_of_lists['a'].__"
   ]
  },
  {
   "cell_type": "code",
   "execution_count": 5,
   "id": "af72dead",
   "metadata": {},
   "outputs": [
    {
     "data": {
      "text/plain": [
       "['something for a']"
      ]
     },
     "execution_count": 5,
     "metadata": {},
     "output_type": "execute_result"
    }
   ],
   "source": [
    "from collections import defaultdict\n",
    "dict_of_lists = defaultdict(list)\n",
    "dict_of_lists['a'].append('something for a')\n",
    "dict_of_lists['a']"
   ]
  }
 ],
 "metadata": {
  "kernelspec": {
   "display_name": "Python 3",
   "language": "python",
   "name": "python3"
  },
  "language_info": {
   "codemirror_mode": {
    "name": "ipython",
    "version": 3
   },
   "file_extension": ".py",
   "mimetype": "text/x-python",
   "name": "python",
   "nbconvert_exporter": "python",
   "pygments_lexer": "ipython3",
   "version": "3.8.8"
  }
 },
 "nbformat": 4,
 "nbformat_minor": 5
}
